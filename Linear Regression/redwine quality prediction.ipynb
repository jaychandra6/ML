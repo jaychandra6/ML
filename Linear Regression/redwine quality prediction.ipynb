{
 "cells": [
  {
   "cell_type": "code",
   "execution_count": 60,
   "metadata": {},
   "outputs": [],
   "source": [
    "import matplotlib.pyplot as plt\n",
    "import numpy as np\n",
    "import pandas as pd\n",
    "%matplotlib inline"
   ]
  },
  {
   "cell_type": "code",
   "execution_count": 61,
   "metadata": {},
   "outputs": [],
   "source": [
    "#reading the data\n",
    "df = pd.read_csv(\"winequality-red.csv\")\n",
    "x1 = df['fixed acidity'].values\n",
    "x2 = df['volatile acidity'].values\n",
    "x3 = df['citric acid'].values\n",
    "x4 = df['residual sugar'].values\n",
    "x5 = df['chlorides'].values\n",
    "x6 = df['free sulfur dioxide'].values\n",
    "x7 = df['total sulfur dioxide'].values\n",
    "x8 = df['density'].values\n",
    "x9 = df['pH'].values\n",
    "x10 = df['sulphates'].values\n",
    "x11 = df['alcohol'].values\n",
    "y = df['quality'].values"
   ]
  },
  {
   "cell_type": "code",
   "execution_count": 62,
   "metadata": {},
   "outputs": [
    {
     "data": {
      "text/html": [
       "<div>\n",
       "<style scoped>\n",
       "    .dataframe tbody tr th:only-of-type {\n",
       "        vertical-align: middle;\n",
       "    }\n",
       "\n",
       "    .dataframe tbody tr th {\n",
       "        vertical-align: top;\n",
       "    }\n",
       "\n",
       "    .dataframe thead th {\n",
       "        text-align: right;\n",
       "    }\n",
       "</style>\n",
       "<table border=\"1\" class=\"dataframe\">\n",
       "  <thead>\n",
       "    <tr style=\"text-align: right;\">\n",
       "      <th></th>\n",
       "      <th>fixed acidity</th>\n",
       "      <th>volatile acidity</th>\n",
       "      <th>citric acid</th>\n",
       "      <th>residual sugar</th>\n",
       "      <th>chlorides</th>\n",
       "      <th>free sulfur dioxide</th>\n",
       "      <th>total sulfur dioxide</th>\n",
       "      <th>density</th>\n",
       "      <th>pH</th>\n",
       "      <th>sulphates</th>\n",
       "      <th>alcohol</th>\n",
       "      <th>quality</th>\n",
       "    </tr>\n",
       "  </thead>\n",
       "  <tbody>\n",
       "    <tr>\n",
       "      <th>count</th>\n",
       "      <td>1599.000000</td>\n",
       "      <td>1599.000000</td>\n",
       "      <td>1599.000000</td>\n",
       "      <td>1599.000000</td>\n",
       "      <td>1599.000000</td>\n",
       "      <td>1599.000000</td>\n",
       "      <td>1599.000000</td>\n",
       "      <td>1599.000000</td>\n",
       "      <td>1599.000000</td>\n",
       "      <td>1599.000000</td>\n",
       "      <td>1599.000000</td>\n",
       "      <td>1599.000000</td>\n",
       "    </tr>\n",
       "    <tr>\n",
       "      <th>mean</th>\n",
       "      <td>8.319637</td>\n",
       "      <td>0.527821</td>\n",
       "      <td>0.270976</td>\n",
       "      <td>2.538806</td>\n",
       "      <td>0.087467</td>\n",
       "      <td>15.874922</td>\n",
       "      <td>46.467792</td>\n",
       "      <td>0.996747</td>\n",
       "      <td>3.311113</td>\n",
       "      <td>0.658149</td>\n",
       "      <td>10.422983</td>\n",
       "      <td>5.636023</td>\n",
       "    </tr>\n",
       "    <tr>\n",
       "      <th>std</th>\n",
       "      <td>1.741096</td>\n",
       "      <td>0.179060</td>\n",
       "      <td>0.194801</td>\n",
       "      <td>1.409928</td>\n",
       "      <td>0.047065</td>\n",
       "      <td>10.460157</td>\n",
       "      <td>32.895324</td>\n",
       "      <td>0.001887</td>\n",
       "      <td>0.154386</td>\n",
       "      <td>0.169507</td>\n",
       "      <td>1.065668</td>\n",
       "      <td>0.807569</td>\n",
       "    </tr>\n",
       "    <tr>\n",
       "      <th>min</th>\n",
       "      <td>4.600000</td>\n",
       "      <td>0.120000</td>\n",
       "      <td>0.000000</td>\n",
       "      <td>0.900000</td>\n",
       "      <td>0.012000</td>\n",
       "      <td>1.000000</td>\n",
       "      <td>6.000000</td>\n",
       "      <td>0.990070</td>\n",
       "      <td>2.740000</td>\n",
       "      <td>0.330000</td>\n",
       "      <td>8.400000</td>\n",
       "      <td>3.000000</td>\n",
       "    </tr>\n",
       "    <tr>\n",
       "      <th>25%</th>\n",
       "      <td>7.100000</td>\n",
       "      <td>0.390000</td>\n",
       "      <td>0.090000</td>\n",
       "      <td>1.900000</td>\n",
       "      <td>0.070000</td>\n",
       "      <td>7.000000</td>\n",
       "      <td>22.000000</td>\n",
       "      <td>0.995600</td>\n",
       "      <td>3.210000</td>\n",
       "      <td>0.550000</td>\n",
       "      <td>9.500000</td>\n",
       "      <td>5.000000</td>\n",
       "    </tr>\n",
       "    <tr>\n",
       "      <th>50%</th>\n",
       "      <td>7.900000</td>\n",
       "      <td>0.520000</td>\n",
       "      <td>0.260000</td>\n",
       "      <td>2.200000</td>\n",
       "      <td>0.079000</td>\n",
       "      <td>14.000000</td>\n",
       "      <td>38.000000</td>\n",
       "      <td>0.996750</td>\n",
       "      <td>3.310000</td>\n",
       "      <td>0.620000</td>\n",
       "      <td>10.200000</td>\n",
       "      <td>6.000000</td>\n",
       "    </tr>\n",
       "    <tr>\n",
       "      <th>75%</th>\n",
       "      <td>9.200000</td>\n",
       "      <td>0.640000</td>\n",
       "      <td>0.420000</td>\n",
       "      <td>2.600000</td>\n",
       "      <td>0.090000</td>\n",
       "      <td>21.000000</td>\n",
       "      <td>62.000000</td>\n",
       "      <td>0.997835</td>\n",
       "      <td>3.400000</td>\n",
       "      <td>0.730000</td>\n",
       "      <td>11.100000</td>\n",
       "      <td>6.000000</td>\n",
       "    </tr>\n",
       "    <tr>\n",
       "      <th>max</th>\n",
       "      <td>15.900000</td>\n",
       "      <td>1.580000</td>\n",
       "      <td>1.000000</td>\n",
       "      <td>15.500000</td>\n",
       "      <td>0.611000</td>\n",
       "      <td>72.000000</td>\n",
       "      <td>289.000000</td>\n",
       "      <td>1.003690</td>\n",
       "      <td>4.010000</td>\n",
       "      <td>2.000000</td>\n",
       "      <td>14.900000</td>\n",
       "      <td>8.000000</td>\n",
       "    </tr>\n",
       "  </tbody>\n",
       "</table>\n",
       "</div>"
      ],
      "text/plain": [
       "       fixed acidity  volatile acidity  citric acid  residual sugar  \\\n",
       "count    1599.000000       1599.000000  1599.000000     1599.000000   \n",
       "mean        8.319637          0.527821     0.270976        2.538806   \n",
       "std         1.741096          0.179060     0.194801        1.409928   \n",
       "min         4.600000          0.120000     0.000000        0.900000   \n",
       "25%         7.100000          0.390000     0.090000        1.900000   \n",
       "50%         7.900000          0.520000     0.260000        2.200000   \n",
       "75%         9.200000          0.640000     0.420000        2.600000   \n",
       "max        15.900000          1.580000     1.000000       15.500000   \n",
       "\n",
       "         chlorides  free sulfur dioxide  total sulfur dioxide      density  \\\n",
       "count  1599.000000          1599.000000           1599.000000  1599.000000   \n",
       "mean      0.087467            15.874922             46.467792     0.996747   \n",
       "std       0.047065            10.460157             32.895324     0.001887   \n",
       "min       0.012000             1.000000              6.000000     0.990070   \n",
       "25%       0.070000             7.000000             22.000000     0.995600   \n",
       "50%       0.079000            14.000000             38.000000     0.996750   \n",
       "75%       0.090000            21.000000             62.000000     0.997835   \n",
       "max       0.611000            72.000000            289.000000     1.003690   \n",
       "\n",
       "                pH    sulphates      alcohol      quality  \n",
       "count  1599.000000  1599.000000  1599.000000  1599.000000  \n",
       "mean      3.311113     0.658149    10.422983     5.636023  \n",
       "std       0.154386     0.169507     1.065668     0.807569  \n",
       "min       2.740000     0.330000     8.400000     3.000000  \n",
       "25%       3.210000     0.550000     9.500000     5.000000  \n",
       "50%       3.310000     0.620000    10.200000     6.000000  \n",
       "75%       3.400000     0.730000    11.100000     6.000000  \n",
       "max       4.010000     2.000000    14.900000     8.000000  "
      ]
     },
     "execution_count": 62,
     "metadata": {},
     "output_type": "execute_result"
    }
   ],
   "source": [
    "df.describe()"
   ]
  },
  {
   "cell_type": "code",
   "execution_count": 63,
   "metadata": {},
   "outputs": [],
   "source": [
    "#feature scaling using Mean Normalization\n",
    "X1=x1\n",
    "X2=x2\n",
    "X3=x3\n",
    "X4=x4\n",
    "X5=x5\n",
    "X6=(x6-x6.mean())/x6.std()\n",
    "X7=(x7-x7.mean())/x7.std()\n",
    "X8=x8\n",
    "X9=x9\n",
    "X10=x10\n",
    "X11=x11"
   ]
  },
  {
   "cell_type": "code",
   "execution_count": 64,
   "metadata": {},
   "outputs": [],
   "source": [
    "#hypothesis\n",
    "def hypothesis(theta, x1, x2, x3, x4, x5, x6, x7, x8, x9, x10, x11):\n",
    "    return theta[0] + theta[1]*x1 + theta[2]*x2 + theta[3]*x3 + theta[4]*x4 + theta[5]*x5 + theta[6]*x6 + theta[7]*x7 + theta[8]*x8 + theta[9]*x9 + theta[10]*x10 + theta[11]*x11"
   ]
  },
  {
   "cell_type": "code",
   "execution_count": 65,
   "metadata": {},
   "outputs": [],
   "source": [
    "#cost function\n",
    "def cost(theta, x1, x2, x3, x4, x5, x6, x7, x8, x9, x10, x11, y):\n",
    "    m = x1.shape[0]\n",
    "    error = 0\n",
    "    for i in range(m):\n",
    "        hx = hypothesis(theta, x1[i], x2[i], x3[i], x4[i], x5[i], x6[i], x7[i], x8[i], x9[i], x10[i], x11[i])\n",
    "        error = error + (hx - y[i])**2\n",
    "    return error"
   ]
  },
  {
   "cell_type": "code",
   "execution_count": 66,
   "metadata": {},
   "outputs": [],
   "source": [
    "#partial derivative of the cost function\n",
    "def diffGradient(theta, x1, x2, x3, x4, x5, x6, x7, x8, x9, x10, x11, y):\n",
    "    m = x1.shape[0]\n",
    "    grad = np.zeros((12,))\n",
    "    for i in range(m):\n",
    "        hx = hypothesis(theta, x1[i], x2[i], x3[i], x4[i], x5[i], x6[i], x7[i], x8[i], x9[i], x10[i], x11[i])\n",
    "        grad[0] = grad[0] + (hx - y[i])\n",
    "        grad[1] = grad[1] + (hx - y[i])*x1[i]\n",
    "        grad[2] = grad[2] + (hx - y[i])*x2[i]\n",
    "        grad[3] = grad[3] + (hx - y[i])*x3[i]\n",
    "        grad[4] = grad[4] + (hx - y[i])*x4[i]\n",
    "        grad[5] = grad[5] + (hx - y[i])*x5[i]\n",
    "        grad[6] = grad[6] + (hx - y[i])*x6[i]\n",
    "        grad[7] = grad[7] + (hx - y[i])*x7[i]\n",
    "        grad[8] = grad[8] + (hx - y[i])*x8[i]\n",
    "        grad[9] = grad[9] + (hx - y[i])*x9[i]\n",
    "        grad[10] = grad[10] + (hx - y[i])*x10[i]\n",
    "        grad[11] = grad[11] + (hx - y[i])*x11[i]\n",
    "    return grad"
   ]
  },
  {
   "cell_type": "code",
   "execution_count": 67,
   "metadata": {},
   "outputs": [],
   "source": [
    "#finding the gradient descent\n",
    "def gradientDescent(x1, x2, x3, x4, x5, x6, x7, x8, x9, x10, x11, y, learning_rate = 0.0001):\n",
    "    theta = np.zeros((12,),dtype = float)\n",
    "    error_list = []\n",
    "    theta_list = []\n",
    "    max_iter = 300\n",
    "    m = x1.shape[0]\n",
    "    for i in range(max_iter):\n",
    "        grad = diffGradient(theta, x1, x2, x3, x4, x5, x6, x7, x8, x9, x10, x11, y)\n",
    "        e = cost(theta, x1, x2, x3, x4, x5, x6, x7, x8, x9, x10, x11, y)\n",
    "        error_list.append(e)\n",
    "        theta_list.append((theta[0],theta[1],theta[2],theta[3],theta[4],theta[5],theta[6],theta[7],theta[8],theta[9],theta[10],theta[11]))\n",
    "        #simultaneously update theta values\n",
    "        theta[0] = theta[0] - learning_rate*(1/m)*grad[0]\n",
    "        theta[1] = theta[1] - learning_rate*(1/m)*grad[1]\n",
    "        theta[2] = theta[2] - learning_rate*(1/m)*grad[2]\n",
    "        theta[3] = theta[3] - learning_rate*(1/m)*grad[3]\n",
    "        theta[4] = theta[4] - learning_rate*(1/m)*grad[4]\n",
    "        theta[5] = theta[5] - learning_rate*(1/m)*grad[5]\n",
    "        theta[6] = theta[6] - learning_rate*(1/m)*grad[6]\n",
    "        theta[7] = theta[7] - learning_rate*(1/m)*grad[7]\n",
    "        theta[8] = theta[8] - learning_rate*(1/m)*grad[8]\n",
    "        theta[9] = theta[9] - learning_rate*(1/m)*grad[9]\n",
    "        theta[10] = theta[10] - learning_rate*(1/m)*grad[10]\n",
    "        theta[11] = theta[11] - learning_rate*(1/m)*grad[11]\n",
    "    return theta, error_list, theta_list"
   ]
  },
  {
   "cell_type": "code",
   "execution_count": 68,
   "metadata": {},
   "outputs": [],
   "source": [
    "final_theta, error_list, theta_list = gradientDescent(X1, X2, X3, X4, X5, X6, X7, X8, X9, X10, X11, y)"
   ]
  },
  {
   "cell_type": "code",
   "execution_count": 69,
   "metadata": {},
   "outputs": [
    {
     "name": "stdout",
     "output_type": "stream",
     "text": [
      "[ 0.02861626  0.22654608  0.01414173  0.00729972  0.06760284  0.00239092\n",
      "  0.00041057 -0.00215074  0.0285085   0.09532207  0.01942388  0.30250962]\n"
     ]
    }
   ],
   "source": [
    "print(final_theta)"
   ]
  },
  {
   "cell_type": "code",
   "execution_count": 70,
   "metadata": {},
   "outputs": [
    {
     "data": {
      "image/png": "[encoded data removed]",
      "text/plain": [
       "<Figure size 432x288 with 1 Axes>"
      ]
     },
     "metadata": {
      "needs_background": "light"
     },
     "output_type": "display_data"
    }
   ],
   "source": [
    "plt.plot(error_list, label='Cost Function')\n",
    "plt.xlabel(\"No. of iterations\")\n",
    "plt.ylabel(\"Error\")\n",
    "plt.legend()\n",
    "plt.show()"
   ]
  },
  {
   "cell_type": "code",
   "execution_count": 71,
   "metadata": {},
   "outputs": [],
   "source": [
    "def predict(theta, x1, x2, x3, x4, x5, x6, x7, x8, x9, x10, x11):\n",
    "    hx = hypothesis(final_theta, x1, x2, x3, x4, x5, x6, x7, x8, x9, x10, x11)\n",
    "    return hx"
   ]
  },
  {
   "cell_type": "code",
   "execution_count": 72,
   "metadata": {},
   "outputs": [],
   "source": [
    "x1 = np.array([12.6])\n",
    "x2 = np.array([0.31])\n",
    "x3 = np.array([0.72])\n",
    "x4 = np.array([2.2])\n",
    "x5 = np.array([0.07200000000000001])\n",
    "x6 = np.array([6.0])\n",
    "x7 = np.array([29.0])\n",
    "x8 = np.array([0.9987])\n",
    "x9 = np.array([2.88])\n",
    "x10 = np.array([0.82])\n",
    "x11 = np.array([9.8])"
   ]
  },
  {
   "cell_type": "code",
   "execution_count": 73,
   "metadata": {},
   "outputs": [
    {
     "name": "stdout",
     "output_type": "stream",
     "text": [
      "[6.26524783]\n"
     ]
    }
   ],
   "source": [
    "prediction = hypothesis(final_theta, x1, x2, x3, x4, x5, x6, x7, x8, x9, x10, x11)\n",
    "print(prediction)\n"
   ]
  },
  {
   "cell_type": "code",
   "execution_count": null,
   "metadata": {},
   "outputs": [],
   "source": []
  }
 ],
 "metadata": {
  "kernelspec": {
   "display_name": "Python 3",
   "language": "python",
   "name": "python3"
  },
  "language_info": {
   "codemirror_mode": {
    "name": "ipython",
    "version": 3
   },
   "file_extension": ".py",
   "mimetype": "text/x-python",
   "name": "python",
   "nbconvert_exporter": "python",
   "pygments_lexer": "ipython3",
   "version": "3.8.1"
  }
 },
 "nbformat": 4,
 "nbformat_minor": 4
}
