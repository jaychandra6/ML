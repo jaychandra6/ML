{
 "cells": [
  {
   "cell_type": "code",
   "execution_count": 2,
   "metadata": {},
   "outputs": [],
   "source": [
    "import torch\n",
    "import torchvision\n",
    "import torch.nn as nn\n",
    "import torch.optim as optim\n",
    "import torch.nn.functional as F\n",
    "import matplotlib.pyplot as plt\n",
    "import torchvision.transforms as transforms"
   ]
  },
  {
   "cell_type": "code",
   "execution_count": 14,
   "metadata": {},
   "outputs": [],
   "source": [
    "class Network(nn.Module):\n",
    "    def __init__(self):\n",
    "        super(Network, self).__init__()\n",
    "        \n",
    "        #conv layers\n",
    "        self.conv1 = nn.Conv2d(in_channels = 3, out_channels = 6, kernel_size = 5) \n",
    "        #here, in_channels = 3 because for this training set, every image has 3 color channels\n",
    "        self.conv2 = nn.Conv2d(in_channels = 6, out_channels = 12, kernel_size = 5)\n",
    "        \n",
    "        #dense layers\n",
    "        self.fc1 = nn.Linear(in_features = 12*5*5, out_features = 120)\n",
    "        self.fc2 = nn.Linear(in_features = 120, out_features = 60)\n",
    "        self.fc3 = nn.Linear(in_features = 60, out_features = 10)\n",
    "        \n",
    "    def forward(self, t):\n",
    "        #input layer\n",
    "        t = t\n",
    "        \n",
    "        #1st conv layer\n",
    "        t = self.conv1(t)\n",
    "        t = F.relu(t)\n",
    "        t = F.max_pool2d(t, kernel_size = 2, stride = 2)\n",
    "        \n",
    "        #2nd conv layer\n",
    "        t = self.conv2(t)\n",
    "        t = F.relu(t)\n",
    "        t = F.max_pool2d(t, kernel_size = 2, stride = 2)\n",
    "        \n",
    "        #flatten the tensor before passing to fully connected layer\n",
    "        t = t.reshape(-1, 12*5*5)\n",
    "        \n",
    "        #1st dense layer\n",
    "        t = self.fc1(t)\n",
    "        t = F.relu(t)\n",
    "        \n",
    "        #2nd dense layer\n",
    "        t = self.fc2(t)\n",
    "        t = F.relu(t)\n",
    "        \n",
    "        #output layer\n",
    "        t = self.fc3(t)\n",
    "        #t = F.softmax(t, dim=1) #no need to use this if we use cross entropy loss function\n",
    "        \n",
    "        return t"
   ]
  },
  {
   "cell_type": "code",
   "execution_count": 15,
   "metadata": {},
   "outputs": [
    {
     "name": "stdout",
     "output_type": "stream",
     "text": [
      "Files already downloaded and verified\n"
     ]
    }
   ],
   "source": [
    "train_set = torchvision.datasets.CIFAR10(\n",
    "    root = \"./data/CIFAR10\",\n",
    "    download = True,\n",
    "    train = True,\n",
    "    transform = transforms.Compose([\n",
    "        transforms.ToTensor(),\n",
    "        transforms.Normalize((0.5, 0.5, 0.5), (0.5, 0.5, 0.5))\n",
    "    ])\n",
    ")"
   ]
  },
  {
   "cell_type": "code",
   "execution_count": 16,
   "metadata": {},
   "outputs": [],
   "source": [
    "#define the outputs\n",
    "outputs = ['airplane','automobile','bird','cat','deer','dog','frog','horse','ship','truck']"
   ]
  },
  {
   "cell_type": "code",
   "execution_count": 17,
   "metadata": {},
   "outputs": [],
   "source": [
    "#get the number of correct predictions\n",
    "def get_num_correct(preds, labels):\n",
    "    return preds.argmax(dim=1).eq(labels).sum().item()"
   ]
  },
  {
   "cell_type": "code",
   "execution_count": 18,
   "metadata": {},
   "outputs": [],
   "source": [
    "#instantiate the network instance\n",
    "network = Network()\n",
    "criterion = nn.CrossEntropyLoss()\n",
    "#load data\n",
    "train_loader = torch.utils.data.DataLoader(train_set, batch_size = 64)\n",
    "optimizer = optim.Adam(network.parameters(), lr = 0.001)"
   ]
  },
  {
   "cell_type": "code",
   "execution_count": 19,
   "metadata": {},
   "outputs": [],
   "source": [
    "#use CUDA if available\n",
    "if torch.cuda.is_available():\n",
    "    network = network.to('cuda')\n",
    "    criterion = criterion.to('cuda')"
   ]
  },
  {
   "cell_type": "code",
   "execution_count": 20,
   "metadata": {},
   "outputs": [],
   "source": [
    "#plotting the data\n",
    "image, label = next(iter(train_set))"
   ]
  },
  {
   "cell_type": "code",
   "execution_count": 21,
   "metadata": {},
   "outputs": [
    {
     "data": {
      "text/plain": [
       "(torch.Size([3, 32, 32]), 6)"
      ]
     },
     "execution_count": 21,
     "metadata": {},
     "output_type": "execute_result"
    }
   ],
   "source": [
    "image.shape, label"
   ]
  },
  {
   "cell_type": "code",
   "execution_count": 22,
   "metadata": {},
   "outputs": [
    {
     "data": {
      "text/plain": [
       "torch.Size([3, 32, 32])"
      ]
     },
     "execution_count": 22,
     "metadata": {},
     "output_type": "execute_result"
    }
   ],
   "source": [
    "image.squeeze(dim=0).shape"
   ]
  },
  {
   "cell_type": "code",
   "execution_count": 23,
   "metadata": {},
   "outputs": [
    {
     "data": {
      "image/png": "[encoded data removed]",
      "text/plain": [
       "<Figure size 432x288 with 1 Axes>"
      ]
     },
     "metadata": {
      "needs_background": "light"
     },
     "output_type": "display_data"
    },
    {
     "name": "stdout",
     "output_type": "stream",
     "text": [
      "Label:  frog\n"
     ]
    }
   ],
   "source": [
    "plt.imshow(image[1])\n",
    "plt.show()\n",
    "print(\"Label: \", outputs[label])"
   ]
  },
  {
   "cell_type": "code",
   "execution_count": 25,
   "metadata": {},
   "outputs": [
    {
     "name": "stdout",
     "output_type": "stream",
     "text": [
      "Epoch: 0 total_correct: 19182 total_loss: 1322.4536123275757\n",
      "Epoch: 1 total_correct: 24604 total_loss: 1102.7133022546768\n",
      "Epoch: 2 total_correct: 26992 total_loss: 1005.7934300303459\n",
      "Epoch: 3 total_correct: 28614 total_loss: 940.735978782177\n",
      "Epoch: 4 total_correct: 29819 total_loss: 891.8546277284622\n",
      "Epoch: 5 total_correct: 30715 total_loss: 852.6998578310013\n",
      "Epoch: 6 total_correct: 31448 total_loss: 820.3628101944923\n",
      "Epoch: 7 total_correct: 32123 total_loss: 792.0818535089493\n",
      "Epoch: 8 total_correct: 32591 total_loss: 767.8889380097389\n",
      "Epoch: 9 total_correct: 33229 total_loss: 745.2770654559135\n",
      "Epoch: 10 total_correct: 33724 total_loss: 723.4989399909973\n",
      "Epoch: 11 total_correct: 34131 total_loss: 704.7383422851562\n",
      "Epoch: 12 total_correct: 34496 total_loss: 686.2289029955864\n",
      "Epoch: 13 total_correct: 34874 total_loss: 669.7917916178703\n",
      "Epoch: 14 total_correct: 35227 total_loss: 652.8074305653572\n",
      "Epoch: 15 total_correct: 35556 total_loss: 638.8873037397861\n",
      "Epoch: 16 total_correct: 35862 total_loss: 625.1539579033852\n",
      "Epoch: 17 total_correct: 36163 total_loss: 613.3126772046089\n",
      "Epoch: 18 total_correct: 36426 total_loss: 602.6032844483852\n",
      "Epoch: 19 total_correct: 36590 total_loss: 592.5929180681705\n",
      "Epoch: 20 total_correct: 36785 total_loss: 583.4527221620083\n",
      "Epoch: 21 total_correct: 36993 total_loss: 575.609387844801\n",
      "Epoch: 22 total_correct: 37155 total_loss: 567.1657628417015\n",
      "Epoch: 23 total_correct: 37324 total_loss: 559.1932101249695\n",
      "Epoch: 24 total_correct: 37539 total_loss: 550.1767590343952\n",
      "Epoch: 25 total_correct: 37671 total_loss: 541.7223571240902\n",
      "Epoch: 26 total_correct: 37890 total_loss: 533.7134465277195\n",
      "Epoch: 27 total_correct: 38040 total_loss: 526.8475392460823\n",
      "Epoch: 28 total_correct: 38239 total_loss: 521.2555502057076\n",
      "Epoch: 29 total_correct: 38296 total_loss: 515.7529916763306\n",
      "Epoch: 30 total_correct: 38359 total_loss: 510.35207855701447\n",
      "Epoch: 31 total_correct: 38428 total_loss: 506.52978786826134\n",
      "Epoch: 32 total_correct: 38479 total_loss: 503.460818529129\n",
      "Epoch: 33 total_correct: 38677 total_loss: 499.14788591861725\n",
      "Epoch: 34 total_correct: 38750 total_loss: 494.3824408352375\n",
      "Epoch: 35 total_correct: 38957 total_loss: 484.25295397639275\n",
      "Epoch: 36 total_correct: 39226 total_loss: 475.42261876165867\n",
      "Epoch: 37 total_correct: 39331 total_loss: 468.44690938293934\n",
      "Epoch: 38 total_correct: 39363 total_loss: 464.01776690781116\n",
      "Epoch: 39 total_correct: 39607 total_loss: 457.4624842554331\n",
      "Epoch: 40 total_correct: 39677 total_loss: 453.5111975520849\n",
      "Epoch: 41 total_correct: 39749 total_loss: 448.47862266004086\n",
      "Epoch: 42 total_correct: 39857 total_loss: 442.0779925137758\n",
      "Epoch: 43 total_correct: 39956 total_loss: 437.43484914302826\n",
      "Epoch: 44 total_correct: 40019 total_loss: 435.0008368343115\n",
      "Epoch: 45 total_correct: 40071 total_loss: 433.415795147419\n",
      "Epoch: 46 total_correct: 40098 total_loss: 430.1843766272068\n",
      "Epoch: 47 total_correct: 40154 total_loss: 427.3948591798544\n",
      "Epoch: 48 total_correct: 40288 total_loss: 423.08322425186634\n",
      "Epoch: 49 total_correct: 40319 total_loss: 419.3425450772047\n"
     ]
    }
   ],
   "source": [
    "#Training loop\n",
    "for epoch in range(50):\n",
    "    total_loss = 0\n",
    "    total_correct = 0\n",
    "    for batch in train_loader:\n",
    "        \n",
    "        images, labels = batch\n",
    "        images = images.to('cuda')\n",
    "        labels = labels.to('cuda')\n",
    "        \n",
    "        #calculate predictions\n",
    "        preds = network(images)\n",
    "        \n",
    "        #calculate loss\n",
    "        loss = criterion(preds, labels)\n",
    "        \n",
    "        #zero out the gradients\n",
    "        optimizer.zero_grad()\n",
    "        \n",
    "        #backpropagate through the network\n",
    "        loss.backward()\n",
    "        \n",
    "        #update the weights\n",
    "        optimizer.step()\n",
    "        \n",
    "        total_loss += loss.item()\n",
    "        total_correct += get_num_correct(preds, labels)\n",
    "        \n",
    "    print(\"Epoch:\", epoch, \"total_correct:\", total_correct, \"total_loss:\", total_loss)"
   ]
  },
  {
   "cell_type": "code",
   "execution_count": 53,
   "metadata": {},
   "outputs": [
    {
     "name": "stdout",
     "output_type": "stream",
     "text": [
      "Accuracy: 80.638 percent\n"
     ]
    }
   ],
   "source": [
    "#no. of correct outputs\n",
    "acc = total_correct/len(train_set)\n",
    "print(\"Accuracy:\", acc*100, \"percent\")"
   ]
  },
  {
   "cell_type": "code",
   "execution_count": 42,
   "metadata": {},
   "outputs": [],
   "source": [
    "#get the batch for predictions\n",
    "images, labels = next(iter(train_loader))"
   ]
  },
  {
   "cell_type": "code",
   "execution_count": 43,
   "metadata": {},
   "outputs": [
    {
     "data": {
      "image/png": "[encoded data removed]",
      "text/plain": [
       "<Figure size 432x288 with 1 Axes>"
      ]
     },
     "metadata": {
      "needs_background": "light"
     },
     "output_type": "display_data"
    },
    {
     "name": "stdout",
     "output_type": "stream",
     "text": [
      "Label: horse\n"
     ]
    }
   ],
   "source": [
    "plt.imshow(images[12][1])\n",
    "plt.show()\n",
    "print(\"Label:\", outputs[labels[12]])"
   ]
  },
  {
   "cell_type": "code",
   "execution_count": 44,
   "metadata": {},
   "outputs": [
    {
     "data": {
      "image/png": "[encoded data removed]",
      "text/plain": [
       "<Figure size 432x288 with 1 Axes>"
      ]
     },
     "metadata": {
      "needs_background": "light"
     },
     "output_type": "display_data"
    },
    {
     "name": "stdout",
     "output_type": "stream",
     "text": [
      "Label: bird\n"
     ]
    }
   ],
   "source": [
    "plt.imshow(images[55][1])\n",
    "plt.show()\n",
    "print(\"Label:\", outputs[labels[55]])"
   ]
  },
  {
   "cell_type": "code",
   "execution_count": 46,
   "metadata": {},
   "outputs": [],
   "source": [
    "#use CUDA if available\n",
    "if torch.cuda.is_available():\n",
    "    images = images.to('cuda')\n",
    "    labels = labels.to('cuda')"
   ]
  },
  {
   "cell_type": "code",
   "execution_count": 47,
   "metadata": {},
   "outputs": [],
   "source": [
    "#predictions\n",
    "pred = network(images[12].unsqueeze(dim=0))"
   ]
  },
  {
   "cell_type": "code",
   "execution_count": 48,
   "metadata": {},
   "outputs": [
    {
     "name": "stdout",
     "output_type": "stream",
     "text": [
      "tensor([[ -9.8678, -15.6550,  -3.3498, -11.0591,   2.7984,  -6.1777, -28.3726,\n",
      "           8.6333, -19.9943, -12.0852]], device='cuda:0',\n",
      "       grad_fn=<AddmmBackward>)\n"
     ]
    }
   ],
   "source": [
    "print(pred)"
   ]
  },
  {
   "cell_type": "code",
   "execution_count": 49,
   "metadata": {},
   "outputs": [
    {
     "name": "stdout",
     "output_type": "stream",
     "text": [
      "prediction: horse\n"
     ]
    }
   ],
   "source": [
    "print(\"prediction:\",outputs[pred.argmax(dim=1)])"
   ]
  },
  {
   "cell_type": "code",
   "execution_count": 50,
   "metadata": {},
   "outputs": [],
   "source": [
    "#second predictions\n",
    "pred = network(images[55].unsqueeze(dim=0))"
   ]
  },
  {
   "cell_type": "code",
   "execution_count": 51,
   "metadata": {},
   "outputs": [
    {
     "name": "stdout",
     "output_type": "stream",
     "text": [
      "tensor([[-3.1135, -5.5484,  2.6142,  1.2084, -1.1146, -0.1134, -1.5176, -0.4149,\n",
      "         -8.2174, -2.4923]], device='cuda:0', grad_fn=<AddmmBackward>)\n"
     ]
    }
   ],
   "source": [
    "print(pred)"
   ]
  },
  {
   "cell_type": "code",
   "execution_count": 52,
   "metadata": {},
   "outputs": [
    {
     "name": "stdout",
     "output_type": "stream",
     "text": [
      "prediction: bird\n"
     ]
    }
   ],
   "source": [
    "print(\"prediction:\", outputs[pred.argmax(dim=1)])"
   ]
  },
  {
   "cell_type": "code",
   "execution_count": null,
   "metadata": {},
   "outputs": [],
   "source": []
  }
 ],
 "metadata": {
  "kernelspec": {
   "display_name": "Python 3",
   "language": "python",
   "name": "python3"
  },
  "language_info": {
   "codemirror_mode": {
    "name": "ipython",
    "version": 3
   },
   "file_extension": ".py",
   "mimetype": "text/x-python",
   "name": "python",
   "nbconvert_exporter": "python",
   "pygments_lexer": "ipython3",
   "version": "3.8.1"
  }
 },
 "nbformat": 4,
 "nbformat_minor": 4
}
