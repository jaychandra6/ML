{
 "cells": [
  {
   "cell_type": "code",
   "execution_count": 20,
   "metadata": {},
   "outputs": [],
   "source": [
    "import matplotlib.pyplot as plt\n",
    "import numpy as np\n",
    "import pandas as pd"
   ]
  },
  {
   "cell_type": "code",
   "execution_count": 21,
   "metadata": {},
   "outputs": [],
   "source": [
    "#this model predicts whether a person has diabetes or not\n",
    "df = pd.read_csv('diabetes.csv')\n",
    "x1 = df['Pregnancies'].values\n",
    "x2 = df['Glucose'].values\n",
    "x3 = df['BloodPressure'].values\n",
    "x4 = df['SkinThickness'].values\n",
    "x5 = df['Insulin'].values\n",
    "x6 = df['BMI'].values\n",
    "x7 = df['DiabetesPedigreeFunction'].values\n",
    "x8 = df['Age'].values\n",
    "y = df['Outcome'].values"
   ]
  },
  {
   "cell_type": "code",
   "execution_count": 22,
   "metadata": {},
   "outputs": [
    {
     "data": {
      "text/html": [
       "<div>\n",
       "<style scoped>\n",
       "    .dataframe tbody tr th:only-of-type {\n",
       "        vertical-align: middle;\n",
       "    }\n",
       "\n",
       "    .dataframe tbody tr th {\n",
       "        vertical-align: top;\n",
       "    }\n",
       "\n",
       "    .dataframe thead th {\n",
       "        text-align: right;\n",
       "    }\n",
       "</style>\n",
       "<table border=\"1\" class=\"dataframe\">\n",
       "  <thead>\n",
       "    <tr style=\"text-align: right;\">\n",
       "      <th></th>\n",
       "      <th>Pregnancies</th>\n",
       "      <th>Glucose</th>\n",
       "      <th>BloodPressure</th>\n",
       "      <th>SkinThickness</th>\n",
       "      <th>Insulin</th>\n",
       "      <th>BMI</th>\n",
       "      <th>DiabetesPedigreeFunction</th>\n",
       "      <th>Age</th>\n",
       "      <th>Outcome</th>\n",
       "    </tr>\n",
       "  </thead>\n",
       "  <tbody>\n",
       "    <tr>\n",
       "      <th>count</th>\n",
       "      <td>768.000000</td>\n",
       "      <td>768.000000</td>\n",
       "      <td>768.000000</td>\n",
       "      <td>768.000000</td>\n",
       "      <td>768.000000</td>\n",
       "      <td>768.000000</td>\n",
       "      <td>768.000000</td>\n",
       "      <td>768.000000</td>\n",
       "      <td>768.000000</td>\n",
       "    </tr>\n",
       "    <tr>\n",
       "      <th>mean</th>\n",
       "      <td>3.845052</td>\n",
       "      <td>120.894531</td>\n",
       "      <td>69.105469</td>\n",
       "      <td>20.536458</td>\n",
       "      <td>79.799479</td>\n",
       "      <td>31.992578</td>\n",
       "      <td>0.471876</td>\n",
       "      <td>33.240885</td>\n",
       "      <td>0.348958</td>\n",
       "    </tr>\n",
       "    <tr>\n",
       "      <th>std</th>\n",
       "      <td>3.369578</td>\n",
       "      <td>31.972618</td>\n",
       "      <td>19.355807</td>\n",
       "      <td>15.952218</td>\n",
       "      <td>115.244002</td>\n",
       "      <td>7.884160</td>\n",
       "      <td>0.331329</td>\n",
       "      <td>11.760232</td>\n",
       "      <td>0.476951</td>\n",
       "    </tr>\n",
       "    <tr>\n",
       "      <th>min</th>\n",
       "      <td>0.000000</td>\n",
       "      <td>0.000000</td>\n",
       "      <td>0.000000</td>\n",
       "      <td>0.000000</td>\n",
       "      <td>0.000000</td>\n",
       "      <td>0.000000</td>\n",
       "      <td>0.078000</td>\n",
       "      <td>21.000000</td>\n",
       "      <td>0.000000</td>\n",
       "    </tr>\n",
       "    <tr>\n",
       "      <th>25%</th>\n",
       "      <td>1.000000</td>\n",
       "      <td>99.000000</td>\n",
       "      <td>62.000000</td>\n",
       "      <td>0.000000</td>\n",
       "      <td>0.000000</td>\n",
       "      <td>27.300000</td>\n",
       "      <td>0.243750</td>\n",
       "      <td>24.000000</td>\n",
       "      <td>0.000000</td>\n",
       "    </tr>\n",
       "    <tr>\n",
       "      <th>50%</th>\n",
       "      <td>3.000000</td>\n",
       "      <td>117.000000</td>\n",
       "      <td>72.000000</td>\n",
       "      <td>23.000000</td>\n",
       "      <td>30.500000</td>\n",
       "      <td>32.000000</td>\n",
       "      <td>0.372500</td>\n",
       "      <td>29.000000</td>\n",
       "      <td>0.000000</td>\n",
       "    </tr>\n",
       "    <tr>\n",
       "      <th>75%</th>\n",
       "      <td>6.000000</td>\n",
       "      <td>140.250000</td>\n",
       "      <td>80.000000</td>\n",
       "      <td>32.000000</td>\n",
       "      <td>127.250000</td>\n",
       "      <td>36.600000</td>\n",
       "      <td>0.626250</td>\n",
       "      <td>41.000000</td>\n",
       "      <td>1.000000</td>\n",
       "    </tr>\n",
       "    <tr>\n",
       "      <th>max</th>\n",
       "      <td>17.000000</td>\n",
       "      <td>199.000000</td>\n",
       "      <td>122.000000</td>\n",
       "      <td>99.000000</td>\n",
       "      <td>846.000000</td>\n",
       "      <td>67.100000</td>\n",
       "      <td>2.420000</td>\n",
       "      <td>81.000000</td>\n",
       "      <td>1.000000</td>\n",
       "    </tr>\n",
       "  </tbody>\n",
       "</table>\n",
       "</div>"
      ],
      "text/plain": [
       "       Pregnancies     Glucose  BloodPressure  SkinThickness     Insulin  \\\n",
       "count   768.000000  768.000000     768.000000     768.000000  768.000000   \n",
       "mean      3.845052  120.894531      69.105469      20.536458   79.799479   \n",
       "std       3.369578   31.972618      19.355807      15.952218  115.244002   \n",
       "min       0.000000    0.000000       0.000000       0.000000    0.000000   \n",
       "25%       1.000000   99.000000      62.000000       0.000000    0.000000   \n",
       "50%       3.000000  117.000000      72.000000      23.000000   30.500000   \n",
       "75%       6.000000  140.250000      80.000000      32.000000  127.250000   \n",
       "max      17.000000  199.000000     122.000000      99.000000  846.000000   \n",
       "\n",
       "              BMI  DiabetesPedigreeFunction         Age     Outcome  \n",
       "count  768.000000                768.000000  768.000000  768.000000  \n",
       "mean    31.992578                  0.471876   33.240885    0.348958  \n",
       "std      7.884160                  0.331329   11.760232    0.476951  \n",
       "min      0.000000                  0.078000   21.000000    0.000000  \n",
       "25%     27.300000                  0.243750   24.000000    0.000000  \n",
       "50%     32.000000                  0.372500   29.000000    0.000000  \n",
       "75%     36.600000                  0.626250   41.000000    1.000000  \n",
       "max     67.100000                  2.420000   81.000000    1.000000  "
      ]
     },
     "execution_count": 22,
     "metadata": {},
     "output_type": "execute_result"
    }
   ],
   "source": [
    "df.describe()"
   ]
  },
  {
   "cell_type": "code",
   "execution_count": 23,
   "metadata": {},
   "outputs": [],
   "source": [
    "#hypothesis for the logistic regression\n",
    "def hypothesis(theta, x1, x2, x3, x4, x5, x6, x7, x8):\n",
    "    hx = theta[0] + theta[1]*x1 + theta[2]*x2 + theta[3]*x3 + theta[4]*x4 + theta[5]*x5 + theta[6]*x6 + theta[7]*x7 +theta[8]*x8\n",
    "    return sigmoid(hx)"
   ]
  },
  {
   "cell_type": "code",
   "execution_count": 24,
   "metadata": {},
   "outputs": [],
   "source": [
    "def sigmoid(z):\n",
    "    return 1.0/(1.0 + np.exp(-1.0*z))"
   ]
  },
  {
   "cell_type": "code",
   "execution_count": 25,
   "metadata": {},
   "outputs": [],
   "source": [
    "#cost function\n",
    "def cost(theta, x1, x2, x3, x4, x5, x6, x7, x8, y):\n",
    "    e = 0\n",
    "    m = x1.shape[0]\n",
    "    for i in range(m):\n",
    "        hx = hypothesis(theta, x1[i], x2[i], x3[i], x4[i], x5[i], x6[i], x7[i], x8[i])\n",
    "        #check if hypothesis hx is giving output zero, if yes then don't perform log operation on it\n",
    "        #this could lead to division by zero error\n",
    "        #this happens because the sigmoid function can give either one or zero for some input featurs\n",
    "        #so we need to check that values\n",
    "        try:\n",
    "            if hx == 0 or (1-hx)==0:\n",
    "                pass\n",
    "            else:\n",
    "                e = e + (y[i]*np.log(hx)+(1-y[i])*np.log(1-hx))\n",
    "        except:\n",
    "            pass\n",
    "    return e"
   ]
  },
  {
   "cell_type": "code",
   "execution_count": 26,
   "metadata": {},
   "outputs": [],
   "source": [
    "#partial derivative of the cost function\n",
    "def diffGradient(theta, x1, x2, x3, x4, x5, x6, x7, x8, y):\n",
    "    grad = np.zeros((9,))\n",
    "    m = x1.shape[0]\n",
    "    for i in range(m):\n",
    "        hx = hypothesis(theta, x1[i], x2[i], x3[i], x4[i], x5[i], x6[i], x7[i], x8[i])\n",
    "        grad[0] = grad[0] + (hx - y[i])\n",
    "        grad[1] = grad[1] + (hx - y[i])*x1[i]\n",
    "        grad[2] = grad[2] + (hx - y[i])*x2[i]\n",
    "        grad[3] = grad[3] + (hx - y[i])*x3[i]\n",
    "        grad[4] = grad[4] + (hx - y[i])*x4[i]\n",
    "        grad[5] = grad[5] + (hx - y[i])*x5[i]\n",
    "        grad[6] = grad[6] + (hx - y[i])*x6[i]\n",
    "        grad[7] = grad[7] + (hx - y[i])*x7[i]\n",
    "        grad[8] = grad[8] + (hx - y[i])*x8[i]\n",
    "    return grad"
   ]
  },
  {
   "cell_type": "code",
   "execution_count": 38,
   "metadata": {},
   "outputs": [],
   "source": [
    "#iterative method to calculate the gradient descent\n",
    "#actually this is called as gradient ascent, so we need to add theta values simulataneously rather than subtracting\n",
    "def gradientDescent(x1, x2, x3, x4, x5, x6, x7, x8, y, learning_rate = 0.0001):\n",
    "    max_iter = 300\n",
    "    error_list = []\n",
    "    m = x1.shape[0]\n",
    "    theta = [0.0, 0.0, 0.0, 0.0, 0.0, 0.0, 0.0, 0.0, 0.0]\n",
    "    for i in range(max_iter):\n",
    "        grad = diffGradient(theta, x1, x2, x3, x4, x5, x6, x7, x8, y)\n",
    "        error = cost(theta, x1, x2, x3, x4, x5, x6, x7, x8, y)\n",
    "        error_list.append(error)\n",
    "        #simultaneously updating theta values\n",
    "        theta[0] += learning_rate*(1/m)*grad[0]\n",
    "        theta[1] += learning_rate*(1/m)*grad[1]\n",
    "        theta[2] += learning_rate*(1/m)*grad[2]\n",
    "        theta[3] += learning_rate*(1/m)*grad[3]\n",
    "        theta[4] += learning_rate*(1/m)*grad[4]\n",
    "        theta[5] += learning_rate*(1/m)*grad[5]\n",
    "        theta[6] += learning_rate*(1/m)*grad[6]\n",
    "        theta[7] += learning_rate*(1/m)*grad[7]\n",
    "        theta[8] += learning_rate*(1/m)*grad[8]\n",
    "    return theta, error_list"
   ]
  },
  {
   "cell_type": "code",
   "execution_count": 39,
   "metadata": {},
   "outputs": [],
   "source": [
    "final_theta, error_list = gradientDescent(x1, x2, x3, x4, x5, x6, x7, x8, y)"
   ]
  },
  {
   "cell_type": "code",
   "execution_count": 40,
   "metadata": {},
   "outputs": [
    {
     "name": "stdout",
     "output_type": "stream",
     "text": [
      "[0.019375091899597748, 0.0638179897135391, 2.129726835777354, 1.3211350362757046, 0.38102349574381544, 1.3332162850821534, 0.5869543039709303, 0.008321244507140306, 0.6040355821540211]\n"
     ]
    }
   ],
   "source": [
    "print(final_theta)"
   ]
  },
  {
   "cell_type": "code",
   "execution_count": 41,
   "metadata": {},
   "outputs": [
    {
     "data": {
      "image/png": "[encoded data removed]",
      "text/plain": [
       "<Figure size 432x288 with 1 Axes>"
      ]
     },
     "metadata": {
      "needs_background": "light"
     },
     "output_type": "display_data"
    }
   ],
   "source": [
    "plt.plot(error_list, label = \"Cost Function\")\n",
    "plt.xlabel(\"No. of iterations\")\n",
    "plt.ylabel(\"Error\")\n",
    "plt.legend()\n",
    "plt.show()"
   ]
  },
  {
   "cell_type": "code",
   "execution_count": 42,
   "metadata": {},
   "outputs": [],
   "source": [
    "def predict(theta, x1, x2, x3, x4, x5, x6, x7, x8):\n",
    "    y_test = []\n",
    "    for i in range(x1.shape[0]):\n",
    "        t = -1\n",
    "        hx = hypothesis(theta, x1, x2, x3, x4, x5, x6, x7, x8)\n",
    "        if hx>=0.5:\n",
    "            t = 1\n",
    "        else:\n",
    "            t = 0\n",
    "        y_test.append(t)\n",
    "    return y_test"
   ]
  },
  {
   "cell_type": "code",
   "execution_count": 43,
   "metadata": {},
   "outputs": [],
   "source": [
    "prediction = predict(final_theta,np.array([0]),np.array([162]),np.array([76]),np.array([56]),np.array([100]),np.array([53.2]),np.array([0.759]),np.array([25]))"
   ]
  },
  {
   "cell_type": "code",
   "execution_count": 44,
   "metadata": {},
   "outputs": [
    {
     "name": "stdout",
     "output_type": "stream",
     "text": [
      "[1]\n"
     ]
    }
   ],
   "source": [
    "print(prediction) #1 represents that the patient has diabetes"
   ]
  },
  {
   "cell_type": "code",
   "execution_count": null,
   "metadata": {},
   "outputs": [],
   "source": []
  }
 ],
 "metadata": {
  "kernelspec": {
   "display_name": "Python 3",
   "language": "python",
   "name": "python3"
  },
  "language_info": {
   "codemirror_mode": {
    "name": "ipython",
    "version": 3
   },
   "file_extension": ".py",
   "mimetype": "text/x-python",
   "name": "python",
   "nbconvert_exporter": "python",
   "pygments_lexer": "ipython3",
   "version": "3.8.1"
  }
 },
 "nbformat": 4,
 "nbformat_minor": 4
}
